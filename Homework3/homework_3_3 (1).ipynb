{
 "cells": [
  {
   "cell_type": "code",
   "execution_count": 0,
   "id": "16e36a",
   "metadata": {
    "collapsed": false
   },
   "outputs": [
   ],
   "source": [
    "n = int(input())\n",
    "o = int(input())\n",
    "\n",
    "def lcm(a, b):\n",
    "    return a * b // gcd(a, b)\n",
    "\n",
    "def lcm_lst(lst):\n",
    "    if len(lst) == 1:\n",
    "        return lst[0]\n",
    "    curr_lcm = lcm(lst[0], lst[1])\n",
    "    for i in range(2, len(lst)):\n",
    "        curr_lcm = lcm(curr_lcm, lst[i])\n",
    "    return curr_lcm\n",
    "\n",
    "s = 1240\n",
    "\n",
    "\n",
    "def lst_to_dict(factors):\n",
    "    num_pow_dict = {}\n",
    "    for num, pow in factors:\n",
    "        num_pow_dict[num] = pow\n",
    "    return num_pow_dict\n",
    "\n",
    "def is_in_n(k, n):\n",
    "    summ = 0\n",
    "    for key, value in lst_to_dict(factor(k)).items():\n",
    "        summ += key**value\n",
    "\n",
    "    if summ <= n:\n",
    "        return True\n",
    "    else:\n",
    "        return False\n",
    "\n",
    "res = is_in_n(o, n)\n",
    "print(res)"
   ]
  },
  {
   "cell_type": "code",
   "execution_count": 0,
   "id": "914c77",
   "metadata": {
    "collapsed": false
   },
   "outputs": [
   ],
   "source": [
   ]
  }
 ],
 "metadata": {
  "kernelspec": {
   "argv": [
    "sage-10.4",
    "--python",
    "-m",
    "sage.repl.ipython_kernel",
    "--matplotlib=inline",
    "-f",
    "{connection_file}"
   ],
   "display_name": "SageMath 10.4",
   "env": {
   },
   "language": "sagemath",
   "metadata": {
    "cocalc": {
     "description": "Open-source mathematical software system",
     "priority": 10,
     "url": "https://www.sagemath.org/"
    }
   },
   "name": "sage-10.4",
   "resource_dir": "/ext/jupyter/kernels/sage-10.4"
  },
  "language_info": {
   "codemirror_mode": {
    "name": "ipython",
    "version": 2
   },
   "file_extension": ".py",
   "mimetype": "text/x-python",
   "name": "python",
   "nbconvert_exporter": "python",
   "pygments_lexer": "ipython2",
   "version": "2.7.12+"
  }
 },
 "nbformat": 4,
 "nbformat_minor": 4
}