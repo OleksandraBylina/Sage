{
 "cells": [
  {
   "cell_type": "code",
   "execution_count": 1,
   "id": "79bcd0",
   "metadata": {
    "cocalc": {
     "outputs": {
      "0": {
       "name": "input",
       "opts": {
        "password": false,
        "prompt": ""
       },
       "output_type": "stream"
      }
     }
    },
    "collapsed": false
   },
   "outputs": [
    {
     "name": "stdout",
     "output_type": "stream",
     "text": " "
    }
   ],
   "source": [
    "\n",
    "import time\n",
    "\n",
    "\n",
    "n = int(input())\n",
    "n_fact = factorial(n)\n",
    "start_time = time.time()\n",
    "\n",
    "def multimaker(n):\n",
    "    c1 = [0] * n\n",
    "    c1[0] = n\n",
    "    k = 0\n",
    "    result = []\n",
    "    while True:\n",
    "        result.append(c1[:k + 1])\n",
    "\n",
    "        counter = 0\n",
    "        while k >= 0 and c1[k] == 1:\n",
    "            counter += c1[k]\n",
    "            k -= 1\n",
    "        if k < 0:\n",
    "            return result\n",
    "\n",
    "        c1[k] -= 1\n",
    "        counter += 1\n",
    "        while counter > c1[k]:\n",
    "            c1[k + 1] = c1[k]\n",
    "            counter -= c1[k]\n",
    "            k += 1\n",
    "\n",
    "        c1[k + 1] = counter\n",
    "        k += 1\n",
    "\n",
    "def lcm(a, b):\n",
    "    return a * b // gcd(a, b)\n",
    "\n",
    "def lcm_lst(lst):\n",
    "    if len(lst) == 1:\n",
    "        return lst[0]\n",
    "    curr_lcm = lcm(lst[0], lst[1])\n",
    "    for i in range(2, len(lst)):\n",
    "        curr_lcm = lcm(curr_lcm, lst[i])\n",
    "    return curr_lcm\n",
    "\n",
    "def make_perm_dict(lst):\n",
    "    perm_dict = {}\n",
    "    for i in range(len(lst)):\n",
    "        if lst[i] not in perm_dict:\n",
    "            perm_dict[lst[i]] = 1\n",
    "        else:\n",
    "            perm_dict[lst[i]] += 1\n",
    "    return perm_dict\n",
    "\n",
    "def permutations_count(lst):\n",
    "    fact = n_fact\n",
    "    nums_count_dict = make_perm_dict(lst)\n",
    "    for num, num_count in nums_count_dict.items():\n",
    "        fact //= (num ** num_count) * factorial(num_count)\n",
    "    return fact\n",
    "\n",
    "def is_even(n):\n",
    "    if n % 2 == 0:\n",
    "        return True\n",
    "    else:\n",
    "        return False\n",
    "\n",
    "ord_count_dict = {}\n",
    "\n",
    "\n",
    "\n",
    "\n",
    "S100_orders_sort= dict(sorted(ord_count_dict.items()))\n",
    "print(S100_orders_sort)\n",
    "A100_orders_sort = {order: count // 2 for order, count in S100_orders_sort.items() if order % 2 == 0}\n",
    "print(A100_orders_sort)\n",
    "end_time = time.time()\n",
    "\n",
    "execution_time = end_time - start_time\n",
    "print(f\"Час виконання: {execution_time} секунд\")"
   ]
  },
  {
   "cell_type": "markdown",
   "id": "8790a7",
   "metadata": {
    "collapsed": false
   },
   "source": [
    "\n",
    "#### 4\n"
   ]
  },
  {
   "cell_type": "code",
   "execution_count": 0,
   "id": "86af86",
   "metadata": {
    "collapsed": false
   },
   "outputs": [
   ],
   "source": [
    "4\n"
   ]
  }
 ],
 "metadata": {
  "kernelspec": {
   "argv": [
    "sage-10.4",
    "--python",
    "-m",
    "sage.repl.ipython_kernel",
    "--matplotlib=inline",
    "-f",
    "{connection_file}"
   ],
   "display_name": "SageMath 10.4",
   "env": {
   },
   "language": "sagemath",
   "metadata": {
    "cocalc": {
     "description": "Open-source mathematical software system",
     "priority": 10,
     "url": "https://www.sagemath.org/"
    }
   },
   "name": "sage-10.4",
   "resource_dir": "/ext/jupyter/kernels/sage-10.4"
  },
  "language_info": {
   "codemirror_mode": {
    "name": "ipython",
    "version": 3
   },
   "file_extension": ".py",
   "mimetype": "text/x-python",
   "name": "python",
   "nbconvert_exporter": "python",
   "pygments_lexer": "ipython3",
   "version": "3.12.4"
  }
 },
 "nbformat": 4,
 "nbformat_minor": 4
}