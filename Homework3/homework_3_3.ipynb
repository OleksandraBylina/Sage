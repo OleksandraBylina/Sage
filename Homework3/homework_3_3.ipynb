{
 "metadata": {
  "kernelspec": {
   "display_name": "SageMath",
   "language": "python",
   "name": "sagemath"
  },
  "language_info": {
   "codemirror_mode": {
    "name": "ipython",
    "version": 2
   },
   "file_extension": ".py",
   "mimetype": "text/x-python",
   "name": "python",
   "nbconvert_exporter": "python",
   "pygments_lexer": "ipython2",
   "version": "2.7.12+"
  }
 },
 "nbformat": 4,
 "nbformat_minor": 4,
 "cells": [
  {
   "metadata": {
    "collapsed": false
   },
   "cell_type": "code",
   "source": [
    "n = int(input())\n",
    "o = int(input())\n",
    "\n",
    "def lcm(a, b):\n",
    "    return a * b // gcd(a, b)\n",
    "\n",
    "def lcm_lst(lst):\n",
    "    if len(lst) == 1:\n",
    "        return lst[0]\n",
    "    curr_lcm = lcm(lst[0], lst[1])\n",
    "    for i in range(2, len(lst)):\n",
    "        curr_lcm = lcm(curr_lcm, lst[i])\n",
    "    return curr_lcm\n",
    "\n",
    "s = 1240\n",
    "\n",
    "\n",
    "def lst_to_dict(factors):\n",
    "    num_pow_dict = {}\n",
    "    for num, pow in factors:\n",
    "        num_pow_dict[num] = pow\n",
    "    return num_pow_dict\n",
    "\n",
    "def is_in_n(k, n):\n",
    "    summ = 0\n",
    "    for key, value in lst_to_dict(factor(k)).items():\n",
    "        summ += key**value\n",
    "\n",
    "    if summ <= n:\n",
    "        return True\n",
    "    else:\n",
    "        return False\n",
    "\n",
    "res = is_in_n(o, n)\n",
    "print(res)"
   ]
  },
  {
   "metadata": {
    "collapsed": false
   },
   "cell_type": "code",
   "source": [
    ""
   ]
  }
 ]
}