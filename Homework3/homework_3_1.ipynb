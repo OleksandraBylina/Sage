{
 "cells": [
  {
   "cell_type": "code",
   "execution_count": 0,
   "id": "abda8f",
   "metadata": {
    "collapsed": false
   },
   "outputs": [
   ],
   "source": [
    "from itertools import permutations, combinations\n",
    "\n",
    "GL2_Z3 = GL(2, GF(3))\n",
    "D10 = DihedralGroup(10)\n",
    "A5 = AlternatingGroup(5) \n",
    "Z16 =  CyclicPermutationGroup(16)\n",
    "\n",
    "D12 = DihedralGroup(12)\n",
    "SL2_Z3 = SL(2, GF(3))\n",
    "\n",
    "def cayley_table(group):\n",
    "    elements = group.list()\n",
    "    n = len(elements)\n",
    "    table = [[group(1) for _ in range(n)] for _ in range(n)]\n",
    "    for i in range(n):\n",
    "        for j in range(n):\n",
    "            table[i][j] = elements[i] * elements[j]\n",
    "    return table\n",
    "\n",
    "def group_order(group):\n",
    "    return group.order()\n",
    "\n",
    "def is_abelian(group):\n",
    "    return group.is_abelian()\n",
    "\n",
    "def is_isomorphic(group1, group2):\n",
    "    elements1 = group1.list()\n",
    "    elements2 = group2.list()\n",
    "    \n",
    "    if len(elements1) != len(elements2):\n",
    "        return False\n",
    "    \n",
    "    for perm in permutations(elements2):\n",
    "        bi = {elements1[i]: perm[i] for i in range(len(elements1))}\n",
    "        \n",
    "        is_isomorphism = True\n",
    "        for x in elements1:\n",
    "            for y in elements1:\n",
    "                left = bi[group1(x * y)]\n",
    "                right = group2(bi[x] * bi[y])\n",
    "                \n",
    "                if left != right:\n",
    "                    is_isomorphism = False\n",
    "                    break\n",
    "            if not is_isomorphism:\n",
    "                break\n",
    "        \n",
    "        if is_isomorphism:\n",
    "            return True\n",
    "    return False\n",
    "\n",
    "groups = {'SGL(2, Z3)': GL2_Z3, 'D10': D10, 'A5': A5, 'Z16': Z16}\n",
    "\n",
    "for name, group in groups.items():\n",
    "    print(f\"Група {name}:\")\n",
    "    print(f\"Порядок: {group_order(group)}\")\n",
    "    print(f\"Абелева чи ні: {is_abelian(group)}\")\n",
    "    print(f\"Таблица Келі:\\n\")\n",
    "    cayley = cayley_table(group)\n",
    "    for row in cayley:\n",
    "        print(row)\n",
    "    print()\n",
    "\n",
    "print(is_isomorphic(GL2_Z3, D12))"
   ]
  }
 ],
 "metadata": {
  "kernelspec": {
   "argv": [
    "sage-10.4",
    "--python",
    "-m",
    "sage.repl.ipython_kernel",
    "--matplotlib=inline",
    "-f",
    "{connection_file}"
   ],
   "display_name": "SageMath 10.4",
   "env": {
   },
   "language": "sagemath",
   "metadata": {
    "cocalc": {
     "description": "Open-source mathematical software system",
     "priority": 10,
     "url": "https://www.sagemath.org/"
    }
   },
   "name": "sage-10.4",
   "resource_dir": "/ext/jupyter/kernels/sage-10.4"
  },
  "language_info": {
   "codemirror_mode": {
    "name": "ipython",
    "version": 2
   },
   "file_extension": ".py",
   "mimetype": "text/x-python",
   "name": "python",
   "nbconvert_exporter": "python",
   "pygments_lexer": "ipython2",
   "version": "2.7.12+"
  }
 },
 "nbformat": 4,
 "nbformat_minor": 4
}