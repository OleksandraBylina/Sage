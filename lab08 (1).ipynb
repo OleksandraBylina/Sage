{
 "cells": [
  {
   "attachments": {
   },
   "cell_type": "markdown",
   "id": "d344deb3-66ad-4695-ac16-cddf4c362d38",
   "metadata": {
    "collapsed": false
   },
   "source": [
    "# Лабораторна робота 8\n",
    "\n",
    "__Знайдіть к-ть різних розфарбувань кубика Рубика 2х2х2, використовуючи 10 кольорів.__\n",
    "\n",
    "\n",
    "![rubik cube](../docs/labs_assets/rubik_cube.jpg)\n",
    "\n",
    "Два розфарбування називатимуться однаковими, якщо існує послідовність рухів кубика рубика, яка одне розфарбування переводить в інше. \n",
    "\n",
    "Не обовʼязково використовувати всі 10 кольорів, тобто допустимо пофарбувати весь кубик в один колір. \n",
    "\n",
    "___Приклад___: існує 183 різних розфарбувань, використовуючи 2 кольори. "
   ]
  },
  {
   "cell_type": "code",
   "execution_count": 3,
   "id": "76127630-539a-43a3-8ab1-998027e76a72",
   "metadata": {
    "collapsed": false
   },
   "outputs": [
    {
     "name": "stdout",
     "output_type": "stream",
     "text": [
      "12395526079546335\n"
     ]
    }
   ],
   "source": [
    "G = SymmetricGroup(24)\n",
    "g1 = G('(1, 2, 4, 3)(5, 24, 9, 7)(6, 23, 10, 8)')\n",
    "g2 = G('(5, 6, 12, 11)(3,13,19,23)(1,7,17,21)')\n",
    "g3 = G('(7, 8, 14, 13)(12, 3, 9, 18)(6, 4, 15, 17)')\n",
    "g4 = G('(20, 19, 17, 18)(15,22, 11,13)(16,21,12,14)')\n",
    "g5 = G('(21, 22, 24, 23)(1,11,20,10)(2,5,19,16)')\n",
    "g6 = G('(10, 16, 15, 9)(2, 22,18, 8)(4, 24, 20, 14)')\n",
    "\n",
    "Group = G.subgroup([g1, g2, g3, g4, g5, g6])\n",
    "\n",
    "\n",
    "counter = 0\n",
    "for i in Group.conjugacy_classes():\n",
    "    l = i.representative()\n",
    "    cycle = len(l.cycle_type())\n",
    "    cycle2 = 10 ** cycle\n",
    "    counter += i.cardinality() * cycle2\n",
    "    num = counter / Group.order()\n",
    " \n",
    "\n",
    "print(num)\n"
   ]
  },
  {
   "cell_type": "markdown",
   "id": "ce9387f2-56a5-401d-9134-a1a0fb34527c",
   "metadata": {
    "collapsed": false
   },
   "source": [
   ]
  },
  {
   "cell_type": "markdown",
   "id": "9e6489",
   "metadata": {
    "collapsed": false
   },
   "source": [
   ]
  }
 ],
 "metadata": {
  "kernelspec": {
   "argv": [
    "sage-10.4",
    "--python",
    "-m",
    "sage.repl.ipython_kernel",
    "--matplotlib=inline",
    "-f",
    "{connection_file}"
   ],
   "display_name": "SageMath 10.4",
   "env": {
   },
   "language": "sagemath",
   "metadata": {
    "cocalc": {
     "description": "Open-source mathematical software system",
     "priority": 10,
     "url": "https://www.sagemath.org/"
    }
   },
   "name": "sage-10.4",
   "resource_dir": "/ext/jupyter/kernels/sage-10.4"
  },
  "language_info": {
   "codemirror_mode": {
    "name": "ipython",
    "version": 3
   },
   "file_extension": ".py",
   "mimetype": "text/x-python",
   "name": "python",
   "nbconvert_exporter": "python",
   "pygments_lexer": "ipython3",
   "version": "3.12.4"
  }
 },
 "nbformat": 4,
 "nbformat_minor": 4
}