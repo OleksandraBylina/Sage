{
 "cells": [
  {
   "cell_type": "code",
   "execution_count": 0,
   "id": "83eb9a",
   "metadata": {
    "collapsed": false
   },
   "outputs": [
   ],
   "source": [
    "def get_divisors(value):\n",
    "    div_list = []\n",
    "    limit = int(value**0.5) + 1\n",
    "    for divisor in range(1, limit):\n",
    "        if value % divisor == 0:\n",
    "            div_list.append(divisor)\n",
    "            if divisor != value // divisor:\n",
    "                div_list.append(value // divisor)\n",
    "    return div_list\n",
    "\n",
    "def validate_group(single_group, order_of_group):\n",
    "    divisors_of_order = get_divisors(order_of_group)\n",
    "    for div in divisors_of_order:\n",
    "        if not any(subgroup.order() == div for subgroup in single_group.subgroups()):\n",
    "            return div\n",
    "    return None\n",
    "\n",
    "def group_tester(group_classes, range_to_check=(1, 10)):\n",
    "    for size in range(range_to_check[0], range_to_check[1]):\n",
    "        for constructor in group_classes:\n",
    "            group_object = constructor(size)\n",
    "            order = group_object.order()\n",
    "            issue_divisor = validate_group(group_object, order)\n",
    "            if issue_divisor is not None:\n",
    "                print(f\"Result {group_object} with order divisor {issue_divisor}\")\n",
    "\n",
    "\n",
    "group_list = [SymmetricGroup, CyclicPermutationGroup, AlternatingGroup, DihedralGroup]\n",
    "group_tester(group_list)"
   ]
  }
 ],
 "metadata": {
  "kernelspec": {
   "argv": [
    "sage-10.4",
    "--python",
    "-m",
    "sage.repl.ipython_kernel",
    "--matplotlib=inline",
    "-f",
    "{connection_file}"
   ],
   "display_name": "SageMath 10.4",
   "env": {
   },
   "language": "sagemath",
   "metadata": {
    "cocalc": {
     "description": "Open-source mathematical software system",
     "priority": 10,
     "url": "https://www.sagemath.org/"
    }
   },
   "name": "sage-10.4",
   "resource_dir": "/ext/jupyter/kernels/sage-10.4"
  },
  "language_info": {
   "codemirror_mode": {
    "name": "ipython",
    "version": 2
   },
   "file_extension": ".py",
   "mimetype": "text/x-python",
   "name": "python",
   "nbconvert_exporter": "python",
   "pygments_lexer": "ipython2",
   "version": "2.7.12+"
  }
 },
 "nbformat": 4,
 "nbformat_minor": 4
}