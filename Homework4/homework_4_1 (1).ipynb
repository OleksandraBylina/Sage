{
 "cells": [
  {
   "cell_type": "code",
   "execution_count": 0,
   "id": "097e8e",
   "metadata": {
    "collapsed": false
   },
   "outputs": [
   ],
   "source": [
    "from itertools import combinations\n",
    "from sage.all import *\n",
    "\n",
    "G = SymmetricGroup(4)\n",
    "elements = G.list()\n",
    "irreducible_sets = []\n",
    "for subset in combinations(elements, 2):\n",
    "    H = G.subgroup(subset)\n",
    "    if H.order() == G.order():\n",
    "        irreducible_sets.append(set(subset))\n",
    "unique_sets = {}\n",
    "for s in irreducible_sets:\n",
    "    key = frozenset(s)\n",
    "    unique_sets[key] = s \n",
    "irreducible_sets = list(unique_sets.values())\n",
    "for irreducible_set in irreducible_sets:\n",
    "    print(f\"Незвідна підмножина {irreducible_set} генерує всю групу\")"
   ]
  }
 ],
 "metadata": {
  "kernelspec": {
   "argv": [
    "sage-10.4",
    "--python",
    "-m",
    "sage.repl.ipython_kernel",
    "--matplotlib=inline",
    "-f",
    "{connection_file}"
   ],
   "display_name": "SageMath 10.4",
   "env": {
   },
   "language": "sagemath",
   "metadata": {
    "cocalc": {
     "description": "Open-source mathematical software system",
     "priority": 10,
     "url": "https://www.sagemath.org/"
    }
   },
   "name": "sage-10.4",
   "resource_dir": "/ext/jupyter/kernels/sage-10.4"
  },
  "language_info": {
   "codemirror_mode": {
    "name": "ipython",
    "version": 2
   },
   "file_extension": ".py",
   "mimetype": "text/x-python",
   "name": "python",
   "nbconvert_exporter": "python",
   "pygments_lexer": "ipython2",
   "version": "2.7.12+"
  }
 },
 "nbformat": 4,
 "nbformat_minor": 4
}