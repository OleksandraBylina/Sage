{
 "metadata": {
  "kernelspec": {
   "display_name": "SageMath",
   "language": "python",
   "name": "sagemath"
  },
  "language_info": {
   "codemirror_mode": {
    "name": "ipython",
    "version": 2
   },
   "file_extension": ".py",
   "mimetype": "text/x-python",
   "name": "python",
   "nbconvert_exporter": "python",
   "pygments_lexer": "ipython2",
   "version": "2.7.12+"
  }
 },
 "nbformat": 4,
 "nbformat_minor": 4,
 "cells": [
  {
   "metadata": {
    "collapsed": false
   },
   "cell_type": "code",
   "source": [
    "from itertools import combinations\n",
    "from sage.all import *\n",
    "\n",
    "G = SymmetricGroup(4)\n",
    "elements = G.list()\n",
    "irreducible_sets = []\n",
    "for subset in combinations(elements, 2):\n",
    "    H = G.subgroup(subset)\n",
    "    if H.order() == G.order():\n",
    "        irreducible_sets.append(set(subset))\n",
    "unique_sets = {}\n",
    "for s in irreducible_sets:\n",
    "    key = frozenset(s)\n",
    "    unique_sets[key] = s \n",
    "irreducible_sets = list(unique_sets.values())\n",
    "for irreducible_set in irreducible_sets:\n",
    "    print(f\"\u041d\u0435\u0437\u0432\u0456\u0434\u043d\u0430 \u043f\u0456\u0434\u043c\u043d\u043e\u0436\u0438\u043d\u0430 {irreducible_set} \u0433\u0435\u043d\u0435\u0440\u0443\u0454 \u0432\u0441\u044e \u0433\u0440\u0443\u043f\u0443\")"
   ]
  }
 ]
}