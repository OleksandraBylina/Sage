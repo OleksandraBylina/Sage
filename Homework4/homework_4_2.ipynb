{
 "metadata": {
  "kernelspec": {
   "display_name": "SageMath",
   "language": "python",
   "name": "sagemath"
  },
  "language_info": {
   "codemirror_mode": {
    "name": "ipython",
    "version": 2
   },
   "file_extension": ".py",
   "mimetype": "text/x-python",
   "name": "python",
   "nbconvert_exporter": "python",
   "pygments_lexer": "ipython2",
   "version": "2.7.12+"
  }
 },
 "nbformat": 4,
 "nbformat_minor": 4,
 "cells": [
  {
   "metadata": {
    "collapsed": false
   },
   "cell_type": "code",
   "source": [
    "S4 = SymmetricGroup(4)\n",
    "S5 = SymmetricGroup(5)\n",
    "A4 = AlternatingGroup(4)\n",
    "A5 = AlternatingGroup(5)\n",
    "\n",
    "print(S4.subgroups(), end = '/n')\n",
    "print(S4.subgroups(), end = '/n')\n",
    "print(A4.subgroups(), end = '/n')\n",
    "print(A5.subgroups(), end = '/n')"
   ]
  }
 ]
}