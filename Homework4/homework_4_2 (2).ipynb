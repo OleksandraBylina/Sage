{
 "cells": [
  {
   "cell_type": "code",
   "execution_count": 0,
   "id": "266869",
   "metadata": {
    "collapsed": false
   },
   "outputs": [
   ],
   "source": [
    "S4 = SymmetricGroup(4)\n",
    "S5 = SymmetricGroup(5)\n",
    "A4 = AlternatingGroup(4)\n",
    "A5 = AlternatingGroup(5)\n",
    "\n",
    "print(S4.subgroups(), end = '/n')\n",
    "print(S4.subgroups(), end = '/n')\n",
    "print(A4.subgroups(), end = '/n')\n",
    "print(A5.subgroups(), end = '/n')"
   ]
  }
 ],
 "metadata": {
  "kernelspec": {
   "argv": [
    "sage-10.4",
    "--python",
    "-m",
    "sage.repl.ipython_kernel",
    "--matplotlib=inline",
    "-f",
    "{connection_file}"
   ],
   "display_name": "SageMath 10.4",
   "env": {
   },
   "language": "sagemath",
   "metadata": {
    "cocalc": {
     "description": "Open-source mathematical software system",
     "priority": 10,
     "url": "https://www.sagemath.org/"
    }
   },
   "name": "sage-10.4",
   "resource_dir": "/ext/jupyter/kernels/sage-10.4"
  },
  "language_info": {
   "codemirror_mode": {
    "name": "ipython",
    "version": 2
   },
   "file_extension": ".py",
   "mimetype": "text/x-python",
   "name": "python",
   "nbconvert_exporter": "python",
   "pygments_lexer": "ipython2",
   "version": "2.7.12+"
  }
 },
 "nbformat": 4,
 "nbformat_minor": 4
}