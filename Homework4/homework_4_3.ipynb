{
 "cells": [
  {
   "cell_type": "code",
   "execution_count": 0,
   "id": "1d3736",
   "metadata": {
    "collapsed": false
   },
   "outputs": [
   ],
   "source": [
    "n = 5\n",
    "G = SymmetricGroup(n)\n",
    "\n",
    "perm1 = Permutation([2, 1, 3, 5, 4])\n",
    "perm2 = Permutation([1, 3, 2, 4, 5])\n",
    "\n",
    "def is_even_permutation(perm):\n",
    "    cycles = perm.cycle_type()\n",
    "    transpositions_count = sum(cycles) - len(cycles)\n",
    "    return transpositions_count % 2 == 0\n",
    "\n",
    "is_even1 = is_even_permutation(perm1)\n",
    "is_even2 = is_even_permutation(perm2)\n",
    "print(f\"Чи є перша підстановка парною? {'Так' if is_even1 else 'Ні'}\")\n",
    "print(f\"Чи є друга підстановка парною? {'Так' if is_even2 else 'Ні'}\")\n",
    "generated_group = PermutationGroup([perm1, perm2])\n",
    "generated_group_elements = set(generated_group.list())\n",
    "sn_elements = set(G.list())\n",
    "an_elements = {p for p in G if is_even_permutation(p)}\n",
    "if generated_group_elements == sn_elements:\n",
    "    print(\"Ця група дорівнює S_n\")\n",
    "elif generated_group_elements == an_elements:\n",
    "    print(\"Ця група дорівнює A_n\")\n",
    "else:\n",
    "    print(\"Ця група не є A_n або S_n\")"
   ]
  }
 ],
 "metadata": {
  "kernelspec": {
   "argv": [
    "sage-10.4",
    "--python",
    "-m",
    "sage.repl.ipython_kernel",
    "--matplotlib=inline",
    "-f",
    "{connection_file}"
   ],
   "display_name": "SageMath 10.4",
   "env": {
   },
   "language": "sagemath",
   "metadata": {
    "cocalc": {
     "description": "Open-source mathematical software system",
     "priority": 10,
     "url": "https://www.sagemath.org/"
    }
   },
   "name": "sage-10.4",
   "resource_dir": "/ext/jupyter/kernels/sage-10.4"
  },
  "language_info": {
   "codemirror_mode": {
    "name": "ipython",
    "version": 2
   },
   "file_extension": ".py",
   "mimetype": "text/x-python",
   "name": "python",
   "nbconvert_exporter": "python",
   "pygments_lexer": "ipython2",
   "version": "2.7.12+"
  }
 },
 "nbformat": 4,
 "nbformat_minor": 4
}